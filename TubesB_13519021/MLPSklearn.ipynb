{
 "cells": [
  {
   "cell_type": "code",
   "execution_count": 22,
   "id": "a8b4d4c7",
   "metadata": {},
   "outputs": [
    {
     "data": {
      "text/plain": [
       "0.6666666666666666"
      ]
     },
     "execution_count": 22,
     "metadata": {},
     "output_type": "execute_result"
    }
   ],
   "source": [
    "from sklearn.datasets import load_iris\n",
    "from sklearn.neural_network import MLPClassifier\n",
    "\n",
    "# Get data\n",
    "iris = load_iris(as_frame=True)\n",
    "data, target = load_iris(return_X_y = True, as_frame=True)\n",
    "\n",
    "# Fit MLP Classifier\n",
    "# clf = MLPClassifier(hidden_layer_sizes = <ukuran hidden layer>, activation =\n",
    "# <fungsi aktivasi>, solver = <metode solver>, batch_size = <ukuran batch>,\n",
    "# learning_rate = <metode learning rate>, learning_rate_init = <learning rate>,\n",
    "# max_iter = <maksimal iterasi>, tol = <error threshold>)\n",
    "\n",
    "clf = MLPClassifier(hidden_layer_sizes = 1,\n",
    "                    activation = 'logistic',\n",
    "                    solver = 'sgd',\n",
    "                    batch_size = 2, \n",
    "                    learning_rate = 'constant',\n",
    "                    learning_rate_init = 0.05,\n",
    "                    max_iter = 100,\n",
    "                    tol = 0.05)\n",
    "\n",
    "\n",
    "clf.fit(data, target)\n",
    "\n",
    "# Accuracy score\n",
    "clf.predict(data)\n",
    "clf.score(data, target)\n"
   ]
  },
  {
   "cell_type": "code",
   "execution_count": 24,
   "id": "4b6ee515",
   "metadata": {},
   "outputs": [
    {
     "name": "stderr",
     "output_type": "stream",
     "text": [
      "C:\\Users\\hp\\AppData\\Local\\Programs\\Python\\Python310\\lib\\site-packages\\sklearn\\neural_network\\_multilayer_perceptron.py:692: ConvergenceWarning: Stochastic Optimizer: Maximum iterations (50) reached and the optimization hasn't converged yet.\n",
      "  warnings.warn(\n"
     ]
    },
    {
     "data": {
      "text/plain": [
       "0.8666666666666667"
      ]
     },
     "execution_count": 24,
     "metadata": {},
     "output_type": "execute_result"
    }
   ],
   "source": [
    "from sklearn.datasets import load_iris\n",
    "from sklearn.neural_network import MLPClassifier\n",
    "\n",
    "# Get data\n",
    "iris = load_iris(as_frame=True)\n",
    "data, target = load_iris(return_X_y = True, as_frame=True)\n",
    "\n",
    "clf = MLPClassifier(hidden_layer_sizes = 3,\n",
    "                    activation = 'logistic',\n",
    "                    solver = 'sgd',\n",
    "                    batch_size = 2, \n",
    "                    learning_rate = 'constant',\n",
    "                    learning_rate_init = 0.001,\n",
    "                    max_iter = 50,\n",
    "                    tol = 0.001)\n",
    "\n",
    "clf.fit(data, target)\n",
    "\n",
    "# Accuracy score\n",
    "clf.predict(data)\n",
    "clf.score(data, target)"
   ]
  },
  {
   "cell_type": "code",
   "execution_count": null,
   "id": "0c7e33eb",
   "metadata": {},
   "outputs": [],
   "source": []
  }
 ],
 "metadata": {
  "kernelspec": {
   "display_name": "Python 3 (ipykernel)",
   "language": "python",
   "name": "python3"
  },
  "language_info": {
   "codemirror_mode": {
    "name": "ipython",
    "version": 3
   },
   "file_extension": ".py",
   "mimetype": "text/x-python",
   "name": "python",
   "nbconvert_exporter": "python",
   "pygments_lexer": "ipython3",
   "version": "3.10.2"
  }
 },
 "nbformat": 4,
 "nbformat_minor": 5
}
