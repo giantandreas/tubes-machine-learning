{
 "cells": [
  {
   "cell_type": "code",
   "execution_count": 8,
   "metadata": {},
   "outputs": [],
   "source": [
    "import pandas as pd\n",
    "import numpy as np\n",
    "\n",
    "# Baca Model\n",
    "    \n",
    "\n",
    "# Baca Dataset\n",
    "def readDataset():\n",
    "    df = pd.read_csv('iris.csv')\n",
    "    return df\n",
    "\n",
    "# Fungsi Aktivasi\n",
    "def linearActivation(x):\n",
    "    return x\n",
    "\n",
    "def sigmoidActivation(x):\n",
    "    value = float(1 / (1 + math.exp(x * -1)))\n",
    "    return value\n",
    "    \n",
    "def reluActivation(x):\n",
    "    return max(0, x)\n",
    "\n",
    "def softmaxActivation(x):\n",
    "    x = np.exp(x)\n",
    "    return x / x.sum()\n",
    "\n",
    "# Fungsi Loss Sum Squared Error untuk Linear, Sigmoid, and Relu activation\n",
    "def lossSumSquareddError(x, t, o, outputs): \n",
    "    sumE = 0\n",
    "    for i in outputs:\n",
    "        sumE += (t[i] - o[i])**2\n",
    "    return 1/2 * sumE\n",
    "\n",
    "# Fungsi Loss untuk softmax\n",
    "def lossCrossEntropy(pk):\n",
    "    return -1*math.log(pk)\n",
    "\n",
    "# Fungsi Turunan Relu\n",
    "def turunanRelu(x):\n",
    "    return 0 if x < 0 else 1\n",
    "    \n",
    "# Fungsi Turunan Sigmoid\n",
    "def turunanSigmoid(x):\n",
    "    return sigmoidActivation(x) * (1-sigmoidActivation(x))\n",
    "\n",
    "# Fungsi Turunan Softmax\n",
    "def turunanSoftmax(x, targetClass):\n",
    "    return (-(1-x)) if targetClass else x\n",
    "\n",
    "# Chain Rule\n",
    "\n",
    "# Chain Rule for \n",
    "\n",
    "# Neural Network\n",
    "# Class Neuron (?)\n",
    "# Class Layer\n",
    "\n",
    "# Main program\n"
   ]
  },
  {
   "cell_type": "code",
   "execution_count": null,
   "metadata": {},
   "outputs": [],
   "source": []
  }
 ],
 "metadata": {
  "kernelspec": {
   "display_name": "Python 3",
   "language": "python",
   "name": "python3"
  },
  "language_info": {
   "codemirror_mode": {
    "name": "ipython",
    "version": 3
   },
   "file_extension": ".py",
   "mimetype": "text/x-python",
   "name": "python",
   "nbconvert_exporter": "python",
   "pygments_lexer": "ipython3",
   "version": "3.8.5"
  }
 },
 "nbformat": 4,
 "nbformat_minor": 4
}
