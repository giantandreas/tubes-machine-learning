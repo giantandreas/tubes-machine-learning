{
 "cells": [
  {
   "cell_type": "markdown",
   "metadata": {},
   "source": [
    "<h2 style=\"font-weigt:bold;\">TUGAS BESAR B MACHINE LEARNING</h2>\n",
    "\n",
    "- Arjuna Marcelino - 13519021\n",
    "- Sharon Bernadetha Marbun - 13519092\n",
    "- Epata Tuah - 13519120\n",
    "- Giant Andreas Tambunan - 13519127"
   ]
  },
  {
   "cell_type": "markdown",
   "metadata": {},
   "source": [
    "### Membaca Data dan Model"
   ]
  },
  {
   "cell_type": "code",
   "execution_count": 72,
   "metadata": {},
   "outputs": [],
   "source": [
    "import pandas as pd\n",
    "import numpy as np\n",
    "import math\n",
    "\n",
    "\n",
    "# Baca Dataset\n",
    "def readData():\n",
    "    df = pd.read_csv('iris.csv')\n",
    "    df['species'] = df['species'].replace(['setosa'],1)\n",
    "    df['species'] = df['species'].replace(['versicolor'],2)\n",
    "    df['species'] = df['species'].replace(['virginica'],3)\n",
    "    y = pd.get_dummies(df.species, prefix='Class')\n",
    "    df[\"species_setosa\"] = y[\"Class_1\"]\n",
    "    df[\"species_versicolor\"] = y[\"Class_2\"]\n",
    "    df[\"species_virginica\"] = y[\"Class_3\"]\n",
    "    return df"
   ]
  },
  {
   "cell_type": "markdown",
   "metadata": {},
   "source": [
    "### Fungsi Aktivasi"
   ]
  },
  {
   "cell_type": "code",
   "execution_count": 73,
   "metadata": {},
   "outputs": [],
   "source": [
    "def linear(x, kwargs=None):\n",
    "    return x\n",
    "\n",
    "def sigmoid(x):\n",
    "    value = float(1 / (1 + math.exp(x * -1)))\n",
    "    return value\n",
    "    '''threshold = 0.1\n",
    "    if value < threshold:\n",
    "        return 0\n",
    "    else:\n",
    "        return 1'''\n",
    "\n",
    "def relu(x):\n",
    "    alpha = 0.0\n",
    "    max_value = 1.0\n",
    "    threshold = 0.0\n",
    "    if x < threshold:\n",
    "        if x > x*alpha:\n",
    "            return x\n",
    "        else:\n",
    "            return x*alpha\n",
    "    else:\n",
    "        return min(x, max_value)\n",
    "\n",
    "def softmax(arr):\n",
    "    arr_exp = np.exp(arr)\n",
    "    return arr_exp / arr_exp.sum()\n",
    "\n",
    "# Fungsi Loss Sum Squared Error untuk Linear, Sigmoid, and Relu activation\n",
    "def lossSumSquareddError(x, t, o, outputs): \n",
    "    sumE = 0\n",
    "    for i in outputs:\n",
    "        sumE += (t[i] - o[i])**2\n",
    "    return 1/2 * sumE\n",
    "\n",
    "# Fungsi Loss untuk softmax\n",
    "def lossCrossEntropy(pk):\n",
    "    return -1*math.log(pk)\n",
    "\n",
    "# Fungsi Turunan Relu\n",
    "def turunanRelu(x):\n",
    "    return 0 if x < 0 else 1\n",
    "    \n",
    "# Fungsi Turunan Sigmoid\n",
    "def turunanSigmoid(x):\n",
    "    return sigmoidActivation(x) * (1-sigmoidActivation(x))\n",
    "\n",
    "# Fungsi Turunan Softmax\n",
    "def turunanSoftmax(x, targetClass):\n",
    "    return (-(1-x)) if targetClass else x"
   ]
  },
  {
   "cell_type": "markdown",
   "metadata": {},
   "source": [
    "### Variabel Global"
   ]
  },
  {
   "cell_type": "code",
   "execution_count": 74,
   "metadata": {},
   "outputs": [],
   "source": [
    "### Variabel Global"
   ]
  },
  {
   "cell_type": "code",
   "execution_count": 75,
   "metadata": {},
   "outputs": [],
   "source": [
    "learningRate = 0.05\n",
    "errorThreshold = 0.05\n",
    "maxIteration = 100\n",
    "batchSize = 2"
   ]
  },
  {
   "cell_type": "code",
   "execution_count": 76,
   "metadata": {},
   "outputs": [],
   "source": [
    "# FORWARD PROPAGATION\n",
    "def forwardPropagation(inputLayer, layer, activation, numNeuron):\n",
    "    outputLayer = []\n",
    "    for i in range (numNeuron):\n",
    "        net = 0\n",
    "        for j in range (len(inputLayer)+1):\n",
    "            if (j==0):\n",
    "                net += layer[0].weight[j][i] * layer[0].bias[i]\n",
    "            else:\n",
    "                net += layer[0].weight[j][i] * inputLayer[j-1]\n",
    "        if activation == \"linear\":\n",
    "            outputLayer.append(linear(net))\n",
    "        elif activation == \"sigmoid\" :\n",
    "            outputLayer.append(sigmoid(net))\n",
    "        elif activation == \"relu\":\n",
    "            outputLayer.append(relu(net))\n",
    "        elif activation == \"softmax\" :\n",
    "            outputLayer.append(softmax(net))\n",
    "    return outputLayer\n",
    "\n",
    "# BACKWARD PROPAGATION\n",
    "def backwardPropagation(learningRate, preLayer, preLayerValue, outputs, currLayer, isOutput, targets, errorOValue):\n",
    "    errorO = []\n",
    "    errorH = []\n",
    "    for i in range (len(currLayer)):\n",
    "        if isOutput:\n",
    "            errorO.append((targets[i] - outputs[i])*outputs[i]*(1-outputs[i]))\n",
    "            # update weight\n",
    "            for j in range (len(preLayerValue)):\n",
    "                deltaW = learningRate * errorO[i] * preLayerValue[j]\n",
    "            for k in range (len(preLayer[0].weight)):\n",
    "                preLayer[0].weight[k][0] += deltaW\n",
    "        else: # not output\n",
    "            for j in range (len(currLayer)):\n",
    "                sumWeightError = []\n",
    "                for k in range (1, len(currLayer[j].weight)):\n",
    "                    sumWeightError.append(currLayer[j].weight[k][j] * errorOValue[0])\n",
    "            for j in range (len(preLayer)):\n",
    "                for h in range (len(outputs)):\n",
    "                    errorH.append(outputs[h]*(1-outputs[h]) * sumWeightError[h])\n",
    "            # update weight\n",
    "            deltaW = []\n",
    "            insideDeltaW = []\n",
    "            for j in range (len(preLayer)):\n",
    "                for k in range (len(preLayerValue)):\n",
    "                    insideDeltaW.append(learningRate * errorOValue[0] * -1)\n",
    "                deltaW.append(insideDeltaW)\n",
    "            for j in range (len(preLayer)):\n",
    "                for k in range (len(preLayer[j].weight)):\n",
    "                    for i in range (len(preLayer[j].weight[k])):\n",
    "                        preLayer[j].weight[k][i] += deltaW[j][k-1]\n",
    "                        #print(\"weight hasil: \" + str(preLayer[j].weight[k][i]))\n",
    "    return errorO if isOutput else errorH\n",
    "    \n"
   ]
  },
  {
   "cell_type": "markdown",
   "metadata": {},
   "source": [
    "### Kelas Layer"
   ]
  },
  {
   "cell_type": "code",
   "execution_count": 77,
   "metadata": {
    "scrolled": true
   },
   "outputs": [],
   "source": [
    "class Layer:\n",
    "    def __init__(self, bias, weight, activation):\n",
    "        self.weight = weight\n",
    "        self.bias = bias\n",
    "        self.activation = activation\n",
    "    \n",
    "    def getDiGraph(self, index, max):\n",
    "        # untuk visualisasi Digraph\n",
    "        arr = []\n",
    "\n",
    "        # bias\n",
    "        i = 1\n",
    "        for bs in self.bias:\n",
    "            a = f'b{index}'\n",
    "            b = f'h{index+1}_{i}'\n",
    "            if(index+1 == max):\n",
    "                b = f'y'\n",
    "            arr.append([a, b, bs])\n",
    "            i += 1\n",
    "        \n",
    "        # weight \n",
    "        i = 1\n",
    "        for x in self.weight:\n",
    "            j = 1\n",
    "            for w in x:\n",
    "                a = f'x{index}_{i}'\n",
    "                if(index>0):\n",
    "                    a = f'h{index}_{i}'\n",
    "                \n",
    "                b = f'h{index+1}_{j}'\n",
    "                if(index+1 == max):\n",
    "                    b = f'y'\n",
    "                arr.append([a, b, w])\n",
    "                \n",
    "                j += 1\n",
    "            i += 1\n",
    "\n",
    "        return arr"
   ]
  },
  {
   "cell_type": "markdown",
   "metadata": {},
   "source": [
    "### Visualization\n"
   ]
  },
  {
   "cell_type": "code",
   "execution_count": 78,
   "metadata": {},
   "outputs": [],
   "source": [
    "def createGraph(layerA, layerB, layerC):\n",
    "    from graphviz import Digraph\n",
    "\n",
    "    graph = Digraph(\"Backpropagation Model\", filename=\"graph.gv\")\n",
    "\n",
    "    idx = 0\n",
    "    max_idx = len(layerA) + len(layerB) + len(layerC)\n",
    "    arr = []\n",
    "    # LAYER A (INPUT)\n",
    "    for i in range(len(layerA)):\n",
    "        arr = layerA[i].getDiGraph(idx, max_idx)\n",
    "        idx += 1\n",
    "        for ed in arr:\n",
    "            graph.edge(ed[0], ed[1], str(ed[2]))\n",
    "\n",
    "    arr = []\n",
    "    # LAYER B (HIDDEN)\n",
    "    for i in range(len(layerB)):\n",
    "        arr = layerB[i].getDiGraph(idx, max_idx-1)\n",
    "        idx += 1\n",
    "        for ed in arr:\n",
    "            graph.edge(ed[0], ed[1], str(ed[2]))\n",
    "\n",
    "    arr = []\n",
    "\n",
    "    graph.view()"
   ]
  },
  {
   "cell_type": "markdown",
   "metadata": {},
   "source": [
    "### Eksekusi"
   ]
  },
  {
   "cell_type": "code",
   "execution_count": 79,
   "metadata": {},
   "outputs": [
    {
     "name": "stdout",
     "output_type": "stream",
     "text": [
      "[[-0.2936983646790215, 0.3063016353209785, 0.3063016353209785, 0.3063016353209785], [0.2063016353209785, 0.3063016353209785, -0.09369836467902153, 0.3063016353209785], [0.3063016353209785, 0.10630163532097849, -0.09369836467902153, 0.3063016353209785], [0.3063016353209785, 0.10630163532097849, -0.09369836467902153, 0.3063016353209785], [-0.2936983646790215, 0.3063016353209785, 0.3063016353209785, 0.3063016353209785]]\n",
      "accurracy: 100.0%\n"
     ]
    }
   ],
   "source": [
    "def predict(target, output):\n",
    "        for i in range(len(output)):\n",
    "            if(output[i] > 0.05):\n",
    "                o = 1\n",
    "            else:\n",
    "                o = 0\n",
    "            if(o != target):\n",
    "                return False\n",
    "        return True\n",
    "\n",
    "def learn(data, maxIteration, errorThreshold, target):\n",
    "    iteration = 0\n",
    "    correct = 0\n",
    "    while iteration < maxIteration:\n",
    "        iteration += 1\n",
    "        for index, item in data.iterrows():\n",
    "            error = 0\n",
    "            inputLayer = []\n",
    "            hiddenLayer = []\n",
    "            outputLayer = []\n",
    "            inputLayer.append(Layer([1,1,1,1,1], [[-0.3,0.3,0.3,0.3],[0.2,0.3,-0.1,0.3],[0.3,0.1,-0.1,0.3],[0.3,0.1,-0.1,0.3],[-0.3,0.3,0.3,0.3]], 'sigmoid'))\n",
    "            hiddenLayer.append(Layer([1], [[-0.1],[0.5],[-0.3],[-0.4],[0.1]], 'sigmoid'))\n",
    "            outputLayer.append(Layer([1], [[-0.1],[0.5],[-0.3],[-0.4],[0.1]], 'sigmoid'))\n",
    "            res1 = forwardPropagation([item['sepal_length'], item['sepal_width'], item['petal_length'], item['petal_width']], inputLayer, \"sigmoid\", 4)\n",
    "            res2 = forwardPropagation(res1, hiddenLayer, \"sigmoid\", 1)\n",
    "            if (item['species']==1):\n",
    "                if predict(item['species_setosa'], res2):\n",
    "                    correct += 1\n",
    "            elif (item['species']==2):\n",
    "                if predict(item['species_versicolor'], res2):\n",
    "                    correct += 1\n",
    "            elif (item['species']==3):\n",
    "                if predict(item['species_virginica'], res2):\n",
    "                    correct += 1\n",
    "\n",
    "            if ((index+1) % batchSize == 0 or index == len(data)):\n",
    "                errOutput = backwardPropagation(learningRate, hiddenLayer, res1, res2, outputLayer, True, [0], [])\n",
    "                errFinal = backwardPropagation(learningRate, inputLayer, [1,1,1,1,1], res1, hiddenLayer, False, [], errOutput)\n",
    "                for x in errFinal:\n",
    "                    error += x\n",
    "                if (error < errorThreshold):\n",
    "                    print(inputLayer[0].weight)\n",
    "                    createGraph(inputLayer, hiddenLayer, outputLayer)\n",
    "                    return(inputLayer[0].weight), correct, iteration\n",
    "            \n",
    "                \n",
    "data = readData()\n",
    "result, correct, iteration = learn(data, maxIteration, errorThreshold, [0,1,2])\n",
    "\n",
    "print(\"accurracy: \" + str(correct/(iteration+1) * 100) + \"%\")\n",
    "\n",
    "\n"
   ]
  },
  {
   "cell_type": "code",
   "execution_count": null,
   "metadata": {},
   "outputs": [],
   "source": []
  },
  {
   "cell_type": "code",
   "execution_count": null,
   "metadata": {},
   "outputs": [],
   "source": []
  }
 ],
 "metadata": {
  "kernelspec": {
   "display_name": "Python 3",
   "language": "python",
   "name": "python3"
  },
  "language_info": {
   "codemirror_mode": {
    "name": "ipython",
    "version": 3
   },
   "file_extension": ".py",
   "mimetype": "text/x-python",
   "name": "python",
   "nbconvert_exporter": "python",
   "pygments_lexer": "ipython3",
   "version": "3.8.5"
  }
 },
 "nbformat": 4,
 "nbformat_minor": 4
}
