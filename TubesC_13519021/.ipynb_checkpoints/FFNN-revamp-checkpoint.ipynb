{
 "cells": [
  {
   "cell_type": "markdown",
   "metadata": {},
   "source": [
    "<h2 style=\"font-weigt:bold;\">TUGAS BESAR A MACHINE LEARNING</h2>\n",
    "\n",
    "- Arjuna Marcelino - 13519021\n",
    "- Sharon Bernadetha Marbun - 13519092\n",
    "- Epata Tuah - 13519120\n",
    "- Giant Andreas Tambunan - 13519127"
   ]
  },
  {
   "cell_type": "markdown",
   "metadata": {},
   "source": [
    "### Pembacaan Data"
   ]
  },
  {
   "cell_type": "code",
   "execution_count": 1,
   "metadata": {},
   "outputs": [],
   "source": [
    "import pandas as pd\n",
    "\n",
    "def read_model():\n",
    "    f = pd.read_csv(\"model.csv\")\n",
    "    return f\n",
    "\n",
    "def read_data():\n",
    "    df = pd.read_csv('iris.csv')\n",
    "    # encode species\n",
    "    df['species'] = df['species'].replace(['setosa'],1)\n",
    "    df['species'] = df['species'].replace(['versicolor'],2)\n",
    "    df['species'] = df['species'].replace(['virginica'],3)\n",
    "\n",
    "    # deviding species colloumn into 3 collumn\n",
    "    y = pd.get_dummies(df.species, prefix='Class')\n",
    "    df[\"Class_1\"] = y[\"Class_1\"]\n",
    "    df[\"Class_2\"] = y[\"Class_2\"]\n",
    "    df[\"Class_3\"] = y[\"Class_3\"]\n",
    "    return df"
   ]
  },
  {
   "cell_type": "markdown",
   "metadata": {},
   "source": [
    "### Fungsi Aktivasi"
   ]
  },
  {
   "cell_type": "code",
   "execution_count": 2,
   "metadata": {},
   "outputs": [],
   "source": [
    "import math\n",
    "import numpy as np\n",
    "\n",
    "def linear(x, kwargs=None):\n",
    "    return x\n",
    "    \n",
    "def sigmoid(x):\n",
    "    value = float(1 / (1 + math.exp(x * -1)))\n",
    "    return value\n",
    "\n",
    "def relu(x, kwargs):\n",
    "    alpha = kwargs.get(\"alpha\", 0.0)\n",
    "    max_value = kwargs.get(\"max_value\", None)\n",
    "    threshold = 0\n",
    "    if x < threshold:\n",
    "        return max(x, x * alpha)\n",
    "    else:\n",
    "        if max_value == None:\n",
    "            return x\n",
    "        else:\n",
    "            return min(x, max_value)"
   ]
  },
  {
   "cell_type": "markdown",
   "metadata": {},
   "source": [
    "### Kelas Neuron"
   ]
  },
  {
   "cell_type": "code",
   "execution_count": 3,
   "metadata": {},
   "outputs": [],
   "source": [
    "class Neuron:\n",
    "    def __init__(self, value, weight):\n",
    "        self.value = value\n",
    "        self.weight = weight    \n",
    "\n",
    "    def set_value(self, value):\n",
    "        self.value = value\n",
    "\n",
    "    def set_weight(self, weight):\n",
    "        self.weight = weight\n",
    "\n",
    "    def get_result(self, prev_layer, activation):\n",
    "        sigma = self.get_sigma(prev_layer=prev_layer)\n",
    "        result = None\n",
    "        if activation == \"sigmoid\":\n",
    "            result = sigmoid(sigma)\n",
    "\n",
    "        elif activation == \"linier\":\n",
    "            result = linear(sigma)\n",
    "            \n",
    "        elif activation == \"relu\":\n",
    "            result = relu(sigma)\n",
    "        \n",
    "        self.set_value(result)\n",
    "    \n",
    "    def get_sigma(self, prev_layer):\n",
    "        i = 0\n",
    "        sigma = 0\n",
    "        for n in prev_layer.neurons:\n",
    "            sigma += n.value * self.weight[i]\n",
    "            i += 1\n",
    "        sigma += prev_layer.bias.value\n",
    "        \n",
    "        return sigma\n",
    "\n",
    "    def get_string_json(self):\n",
    "        string = \"\\t\\t\\t{\\n\"\n",
    "        string += f'\\t\\t\\t\\t\"value\" : {self.value},\\n'\n",
    "        w = self.weight\n",
    "        if self.weight != None:\n",
    "            w = self.weight \n",
    "        else:\n",
    "            w = \"null\"\n",
    "        string += f'\\t\\t\\t\\t\"weight\" : {w}\\n'\n",
    "        string += \"\\t\\t\\t}\"\n",
    "        return string"
   ]
  },
  {
   "cell_type": "markdown",
   "metadata": {},
   "source": [
    "### Kelas Layer"
   ]
  },
  {
   "cell_type": "code",
   "execution_count": 4,
   "metadata": {},
   "outputs": [],
   "source": [
    "import random\n",
    "\n",
    "class Layer:\n",
    "    def __init__(self, idx:int, num_of_neuron:int, activation:str, type:str, prev_layer):\n",
    "        self.bias = Neuron(random.random(), weight=None)\n",
    "        self.neurons = []\n",
    "        self.activation = activation\n",
    "        self.idx = idx\n",
    "        self.type = type\n",
    "        self.prev_layer = prev_layer\n",
    "\n",
    "        if type == \"input\":\n",
    "            for i in range(num_of_neuron):\n",
    "                n = Neuron(0, weight=None)\n",
    "                self.neurons.append(n)\n",
    "\n",
    "        elif type == \"hidden\":\n",
    "            num_prev_neuron = len(prev_layer.neurons)\n",
    "            for i in range(num_of_neuron):\n",
    "                n = Neuron(0, weight=[random.random() for x in range(num_prev_neuron)])\n",
    "                self.neurons.append(n)\n",
    "\n",
    "        elif type == \"output\":\n",
    "            self.bias = None\n",
    "            num_prev_neuron = len(prev_layer.neurons)\n",
    "            for i in range(num_of_neuron):\n",
    "                n = Neuron(0, weight=[random.random() for x in range(num_prev_neuron)])\n",
    "                self.neurons.append(n)\n",
    "\n",
    "\n",
    "    def set_values(self, values):\n",
    "        i = 0\n",
    "        for n in self.neurons:\n",
    "            n.set_value(values[i])\n",
    "            i += 1\n",
    "\n",
    "    def set_neuron_bias(self, biases):\n",
    "        i = 0\n",
    "        for n in self.neurons:\n",
    "            n.bias_weight = biases[i]\n",
    "            i += 1\n",
    "\n",
    "    def set_weights(self, weights:list[list[float]]):\n",
    "        i = 0\n",
    "        for n in self.neurons:\n",
    "            n.set_weight(weights[i])\n",
    "            i += 1\n",
    "\n",
    "    def get_result(self):\n",
    "        for n in self.neurons:\n",
    "            n.get_result(self.prev_layer, self.activation)\n",
    "\n",
    "    def back_prop(self, detot, learning_rate):\n",
    "        # check if not input layer\n",
    "        if self.type == \"input\":\n",
    "            return\n",
    "        \n",
    "        i = 0\n",
    "        temp_detot = []\n",
    "        for n in self.neurons:\n",
    "            derr_tot = 0\n",
    "            dout_dnet = n.value * (1 - n.value)\n",
    "            for err in detot:\n",
    "                derr_tot += err[i]\n",
    "            temp = derr_tot * dout_dnet\n",
    "            temp_neuron = []\n",
    "\n",
    "            for j in range(len(n.weight)):\n",
    "                dnet_dw = self.prev_layer.neurons[j].value\n",
    "                derr_dw = derr_tot * dout_dnet * dnet_dw\n",
    "                temp_neuron.append(temp * n.weight[j])\n",
    "                # update weight\n",
    "                updated = n.weight[j] - (learning_rate * derr_dw)\n",
    "                n.weight[j] = updated\n",
    "\n",
    "            temp_detot.append(temp_neuron)\n",
    "            i += 1\n",
    "        \n",
    "        self.prev_layer.back_prop(temp_detot, learning_rate)\n",
    "\n",
    "    def print_layer(self):\n",
    "        print(f\"Layer {self.idx} ({self.type})\")\n",
    "        print(f\"activation func = {self.activation}\")\n",
    "        for n in self.neurons:\n",
    "            print(f\"Neuron weight = {n.weight} \\t Neuron value = {n.value}\")\n",
    "        if self.type != \"output\":\n",
    "            print(f\"Bias = {self.bias.value}\")\n",
    "        print(f\"prev layer idx = {self.prev_layer}\")\n",
    "        print(\"\\n\")\n",
    "\n",
    "    def get_string_json(self):\n",
    "        # attribute\n",
    "        string = \"\\t\\t{\\n\"\n",
    "        string += f'\\t\\t\\t\"idx\": \"{self.idx}\",\\n'\n",
    "        string += f'\\t\\t\\t\"num_of_neuron\": \"{len(self.neurons)}\",\\n'\n",
    "        string += f'\\t\\t\\t\"activation\": \"{self.activation}\",\\n'\n",
    "        string += f'\\t\\t\\t\"type\": \"{self.type}\",\\n'\n",
    "        # neuron\n",
    "        string += f'\\t\\t\\t\"neurons\": [\\n'\n",
    "        i = 0\n",
    "        for neu in self.neurons:\n",
    "            string += neu.get_string_json()\n",
    "            if i != len(self.neurons)-1:\n",
    "                string += ','\n",
    "            i += 1\n",
    "        string += '],\\n'\n",
    "        bias = self.bias\n",
    "        if bias == None:\n",
    "            bias = \"null\"\n",
    "        else:\n",
    "            bias = bias.value\n",
    "        string += f'\\t\\t\\t\"bias\": {bias}'\n",
    "        string += \"\\t\\t}\"\n",
    "        return string"
   ]
  },
  {
   "cell_type": "markdown",
   "metadata": {},
   "source": [
    "### Kelas FFNN"
   ]
  },
  {
   "cell_type": "code",
   "execution_count": 5,
   "metadata": {},
   "outputs": [],
   "source": [
    "# FFNN Class\n",
    "import json\n",
    "from collections import namedtuple\n",
    "\n",
    "# customDecoder function for read from json\n",
    "def customDecoder(dict):\n",
    "    return namedtuple('X', dict.keys())(*dict.values())\n",
    "\n",
    "class FeedForwardNeuralNetwork:\n",
    "    def __init__(self, model, learning_rate, error_threshold, max_iteration, json_filename):\n",
    "        if json_filename != None:\n",
    "            # read json file\n",
    "            file = open(json_filename, 'r')\n",
    "            ffnn_json = json.load(file, object_hook = customDecoder)\n",
    "\n",
    "            self.input_layer = Layer(ffnn_json.input_layer.idx,\n",
    "                                        int(ffnn_json.input_layer.num_of_neuron),\n",
    "                                        ffnn_json.input_layer.activation,\n",
    "                                        ffnn_json.input_layer.type,\n",
    "                                        prev_layer=None)\n",
    "\n",
    "            self.input_layer.bias.value = float(ffnn_json.input_layer.bias)\n",
    "            i = 0\n",
    "            # update weight\n",
    "            for neu in self.input_layer.neurons:\n",
    "                neu.value = ffnn_json.input_layer.neurons[i].value\n",
    "                neu.weight = ffnn_json.input_layer.neurons[i].weight\n",
    "                i += 1\n",
    "            \n",
    "            \n",
    "            self.hidden_layer = []\n",
    "            i = 0\n",
    "            temp = self.input_layer\n",
    "            for hid in ffnn_json.hidden_layer:\n",
    "                hid = Layer(ffnn_json.hidden_layer[i].idx,\n",
    "                            int(ffnn_json.hidden_layer[i].num_of_neuron),\n",
    "                            ffnn_json.hidden_layer[i].activation,\n",
    "                            ffnn_json.hidden_layer[i].type,\n",
    "                            prev_layer= temp)\n",
    "                j = 0\n",
    "                # update weight\n",
    "                for neu in hid.neurons:\n",
    "                    neu.value = float(ffnn_json.hidden_layer[i].neurons[j].value)\n",
    "                    neu.weight = ffnn_json.hidden_layer[i].neurons[j].weight\n",
    "                    j += 1\n",
    "                \n",
    "                hid.bias.value = float(ffnn_json.hidden_layer[i].bias)\n",
    "                self.hidden_layer.append(hid)\n",
    "                temp = hid\n",
    "                i += 1\n",
    "\n",
    "            self.output_layer = Layer(ffnn_json.output_layer.idx,\n",
    "                                        int(ffnn_json.output_layer.num_of_neuron),\n",
    "                                        ffnn_json.output_layer.activation,\n",
    "                                        ffnn_json.output_layer.type,\n",
    "                                        prev_layer=temp)\n",
    "            # update weight\n",
    "            i = 0\n",
    "            for neu in self.output_layer.neurons:\n",
    "                neu.value = float(ffnn_json.output_layer.neurons[i].value)\n",
    "                neu.weight = ffnn_json.output_layer.neurons[i].weight\n",
    "                i += 1\n",
    "            \n",
    "            self.output_layer.bias = ffnn_json.output_layer.bias\n",
    "            self.learning_rate = float(ffnn_json.learning_rate)\n",
    "            self.error_threshold = float(ffnn_json.error_threshold)\n",
    "            self.max_itteration = int(ffnn_json.max_iteration)\n",
    "            return\n",
    "        \n",
    "        self.input_layer = None\n",
    "        self.hidden_layer = []\n",
    "        self.output_layer = None\n",
    "        self.learning_rate = learning_rate\n",
    "        self.error_threshold = error_threshold\n",
    "        self.max_itteration = max_iteration\n",
    "\n",
    "        temp_layer = None\n",
    "        for index, items in model.iterrows():\n",
    "            if index == 0:\n",
    "                self.input_layer = Layer(index, items[\"neuron\"], items[\"activation\"], \"input\", prev_layer=None)\n",
    "                temp_layer = self.input_layer\n",
    "            elif index > 0 and index < model.index.stop - 1:\n",
    "                layer = Layer(index, items[\"neuron\"], items[\"activation\"], \"hidden\", prev_layer=temp_layer)\n",
    "                temp_layer = layer\n",
    "                self.hidden_layer.append(layer)\n",
    "            elif index == model.index.stop-1:\n",
    "                self.output_layer = Layer(index, items[\"neuron\"], items[\"activation\"], \"output\", prev_layer=temp_layer)\n",
    "\n",
    "    def forward_propagation(self, input):\n",
    "        # assume len input = len input_layer.neurons\n",
    "        self.input_layer.set_values(input)\n",
    "        for lay in self.hidden_layer:\n",
    "            lay.get_result()\n",
    "        self.output_layer.get_result()\n",
    "        \n",
    "    def backward_propagation(self, target):\n",
    "        i = 0\n",
    "        temp_detot = []\n",
    "        # update output layer weights\n",
    "        for out_n in self.output_layer.neurons:\n",
    "            derr_dout = out_n.value - target[i]\n",
    "            dout_dy = out_n.value * (1- out_n.value)\n",
    "            temp = derr_dout * dout_dy\n",
    "            temp_neuron = []\n",
    "            \n",
    "            for j in range(len(out_n.weight)):\n",
    "                dy_dw = self.output_layer.prev_layer.neurons[j].value\n",
    "                derr_dw = derr_dout * dout_dy * dy_dw\n",
    "                temp_neuron.append(temp * out_n.weight[j]) # for hidden layer\n",
    "                # update\n",
    "                updated = out_n.weight[j] - (self.learning_rate * derr_dw)\n",
    "                out_n.weight[j] = updated\n",
    "            \n",
    "            temp_detot.append(temp_neuron)\n",
    "            i += 1\n",
    "        \n",
    "        # backprop and update for hidden layer\n",
    "        self.output_layer.prev_layer.back_prop(temp_detot, self.learning_rate)\n",
    "        \n",
    "    \n",
    "    def learn(self, data_train):\n",
    "        # fromat data_train harus sesuai dengan data yang diambil dari read_data()  \n",
    "        # iterate for each data\n",
    "        for idx, data in data_train.iterrows():\n",
    "            input = []\n",
    "            # input\n",
    "            for i in range(len(self.input_layer.neurons)):\n",
    "                input.append(data[i])\n",
    "            \n",
    "            # output\n",
    "            target = [data[\"Class_1\"], data[\"Class_2\"], data[\"Class_3\"]]\n",
    "\n",
    "            # set input layer\n",
    "            self.input_layer.set_values(input)\n",
    "            # forward and backward propagation\n",
    "            self.forward_propagation(input)\n",
    "            self.backward_propagation(target)\n",
    "            # print(f\"COST = {self.get_error_cost(target)}\")\n",
    "        \n",
    "\n",
    "    def get_error_cost(self, target):\n",
    "        cost = 0\n",
    "        i = 0\n",
    "        for n in self.output_layer.neurons:\n",
    "            dif = target[i] - n.value\n",
    "            cost += (dif ** 2)/2\n",
    "            i += 1\n",
    "        return cost\n",
    "\n",
    "    def predict(self, test_data):\n",
    "        result = []\n",
    "        num_true = 0\n",
    "        for idx, data in test_data.iterrows():\n",
    "            input = []\n",
    "            # input\n",
    "            for i in range(len(self.input_layer.neurons)):\n",
    "                input.append(data[i])\n",
    "            # output\n",
    "            target = [data[\"Class_1\"], data[\"Class_2\"], data[\"Class_3\"]]\n",
    "\n",
    "            # set input layer\n",
    "            self.input_layer.set_values(input)\n",
    "            # forward propagation\n",
    "            self.forward_propagation(input)\n",
    "            temp = -1\n",
    "            idx = 0\n",
    "            i = 1\n",
    "            for out_n in self.output_layer.neurons:\n",
    "                if temp < out_n.value:\n",
    "                    temp = out_n.value\n",
    "                    idx = i\n",
    "                i += 1\n",
    "            temp_result = []\n",
    "            if idx == 1:\n",
    "                temp_result = [1, 0, 0]\n",
    "            elif idx == 2:\n",
    "                temp_result = [0, 1, 0]\n",
    "            elif idx == 3:\n",
    "                temp_result = [0, 0, 1]\n",
    "            \n",
    "            result.append(temp_result)\n",
    "            # predict\n",
    "            if target == temp_result:\n",
    "                num_true += 1\n",
    "        return result, num_true/len(result)\n",
    "    \n",
    "    def predict_instance(self, instance):\n",
    "        # predicting one instance\n",
    "        # instance : list input (ex: [1.2, 2.3, 3,4, 4.5])\n",
    "        # output: class (ex: [0,0,1])\n",
    "        self.forward_propagation(instance)\n",
    "\n",
    "        temp = -1\n",
    "        idx = 0\n",
    "        i = 1\n",
    "        for out_n in self.output_layer.neurons:\n",
    "            if temp < out_n.value:\n",
    "                temp = out_n.value\n",
    "                idx = i\n",
    "            i += 1\n",
    "        result = []\n",
    "        cls = 0\n",
    "        if idx == 1:\n",
    "            result = [1, 0, 0]\n",
    "            cls = 0\n",
    "        elif idx == 2:\n",
    "            result = [0, 1, 0]\n",
    "            cls = 1\n",
    "        elif idx == 3:\n",
    "            result = [0, 0, 1]\n",
    "            cls = 2\n",
    "        \n",
    "        return result, cls\n",
    "\n",
    "    def print_neural_network(self):\n",
    "        self.input_layer.print_layer()\n",
    "        for lay in self.hidden_layer:\n",
    "            lay.print_layer()\n",
    "        self.output_layer.print_layer()\n",
    "\n",
    "    def get_str_json(self):\n",
    "        # __init__(self, model, learning_rate, error_threshold, max_iteration):\n",
    "        string = \"{\\n\"\n",
    "        string += f'\\t\"learning_rate\": \"{self.learning_rate}\",\\n'\n",
    "        string += f'\\t\"error_threshold\": \"{self.error_threshold}\",\\n'\n",
    "        string += f'\\t\"max_iteration\": \"{self.max_itteration}\",\\n'\n",
    "        string += f'\\t\"input_layer\": {self.input_layer.get_string_json()},\\n'\n",
    "        string += f'\\t\"hidden_layer\": [\\n'\n",
    "        for lay in self.hidden_layer:\n",
    "            string += lay.get_string_json()\n",
    "        string += '],\\n'\n",
    "        string += f'\\t\"output_layer\": {self.output_layer.get_string_json()}\\n'\n",
    "        string += \"}\"\n",
    "        return string\n",
    "\n",
    "    def save_to_json(self, file_name):\n",
    "        jsonFile = open(file_name, \"w\")\n",
    "        jsonFile.write(self.get_str_json())\n",
    "        jsonFile.close()\n"
   ]
  },
  {
   "cell_type": "markdown",
   "metadata": {},
   "source": [
    "### Utilitas"
   ]
  },
  {
   "cell_type": "code",
   "execution_count": 6,
   "metadata": {},
   "outputs": [],
   "source": [
    "def convert_class(result):\n",
    "    new = []\n",
    "    for i in range(len(result)):\n",
    "        if result[i] == [1, 0, 0]:\n",
    "            new.append(0)\n",
    "        elif result[i] == [0, 1, 0]:\n",
    "            new.append(1)\n",
    "        else:  # result[i] == [0,0,1]\n",
    "            new.append(2)\n",
    "    return new\n",
    "\n",
    "def conf_matrix(actual, predicted):\n",
    "    actual0_predicted0 = 0\n",
    "    actual0_predicted1 = 0\n",
    "    actual0_predicted2 = 0\n",
    "    actual1_predicted0 = 0\n",
    "    actual1_predicted1 = 0\n",
    "    actual1_predicted2 = 0\n",
    "    actual2_predicted0 = 0\n",
    "    actual2_predicted1 = 0\n",
    "    actual2_predicted2 = 0\n",
    "    num_data = len(actual)\n",
    "    for i in range(num_data):\n",
    "        if actual[i] == 0 and predicted[i] == 0:\n",
    "            actual0_predicted0 += 1\n",
    "        elif actual[i] == 0 and predicted[i] == 1:\n",
    "            actual0_predicted1 += 1\n",
    "        elif actual[i] == 0 and predicted[i] == 2:\n",
    "            actual0_predicted2 += 1\n",
    "        elif actual[i] == 1 and predicted[i] == 0:\n",
    "            actual1_predicted0 += 1\n",
    "        elif actual[i] == 1 and predicted[i] == 1:\n",
    "            actual1_predicted1 += 1\n",
    "        elif actual[i] == 1 and predicted[i] == 2:\n",
    "            actual1_predicted2 += 1\n",
    "        elif actual[i] == 2 and predicted[i] == 0:\n",
    "            actual2_predicted0 += 1\n",
    "        elif actual[i] == 2 and predicted[i] == 1:\n",
    "            actual2_predicted1 += 1\n",
    "        else:  # actual[i] == 2 and predicted[i] == 2:\n",
    "            actual2_predicted2 += 1\n",
    "    row0 = [actual0_predicted0, actual0_predicted1, actual0_predicted2]\n",
    "    row1 = [actual1_predicted0, actual1_predicted1, actual1_predicted2]\n",
    "    row2 = [actual2_predicted0, actual2_predicted1, actual2_predicted2]\n",
    "    return [row0, row1, row2]\n",
    "\n",
    "def performance_measure(conf_matrix):\n",
    "    tp_se = conf_matrix[0][0]\n",
    "    fn_se = conf_matrix[0][1] + conf_matrix[0][2]\n",
    "    fp_se = conf_matrix[1][0] + conf_matrix[2][0]\n",
    "    tn_se = conf_matrix[1][1] + conf_matrix[1][2] + conf_matrix[2][1] + conf_matrix[2][2]\n",
    "\n",
    "    tp_ve = conf_matrix[1][1]\n",
    "    fn_ve = conf_matrix[1][0] + conf_matrix[1][2]\n",
    "    fp_ve = conf_matrix[0][1] + conf_matrix[2][1]\n",
    "    tn_ve = conf_matrix[0][0] + conf_matrix[0][2] + conf_matrix[2][0] + conf_matrix[2][2]\n",
    "\n",
    "    tp_vi = conf_matrix[2][2]\n",
    "    fn_vi = conf_matrix[2][0] + conf_matrix[2][1]\n",
    "    fp_vi = conf_matrix[0][2] + conf_matrix[1][2]\n",
    "    tn_vi = conf_matrix[0][0] + conf_matrix[0][1] + conf_matrix[1][0] + conf_matrix[1][1]\n",
    "\n",
    "    pos_se = tp_se+fn_se\n",
    "    neg_se = fp_se+tn_se\n",
    "\n",
    "    pos_aks_se = tp_se+fp_se\n",
    "\n",
    "    pos_ve = tp_ve+fn_ve\n",
    "    neg_ve = fp_ve+tn_ve\n",
    "\n",
    "    pos_aks_ve = tp_ve+fp_ve\n",
    "\n",
    "    pos_vi = tp_vi+fn_vi\n",
    "    neg_vi = fp_vi+tn_vi\n",
    "\n",
    "    pos_aks_vi = tp_vi+fp_vi\n",
    "\n",
    "    Num = pos_se+neg_se\n",
    "\n",
    "    akurasi = [(tp_se+tn_se)/Num, (tp_ve+tn_ve)/Num, (tp_vi+tn_vi)/Num ]\n",
    "#     presisi = [tp_se/pos_aks_se,tp_ve/pos_aks_ve,tp_vi/pos_aks_vi]\n",
    "    presisi = [tp_se/pos_aks_se if pos_aks_se != 0 else 0,tp_ve/pos_aks_ve if pos_aks_ve != 0 else 0,tp_vi/pos_aks_vi if pos_aks_vi != 0 else 0]\n",
    "    recall = [tp_se/pos_se if pos_se != 0 else 0,tp_ve/pos_ve if pos_ve != 0 else 0,tp_vi/pos_vi if pos_vi != 0 else 0]\n",
    "    f1 = [2*(presisi[0]*recall[0])/(presisi[0]+recall[0]) if presisi[0]+recall[0] != 0 else 0,2*(presisi[1]*recall[1])/(presisi[1]+recall[1]) if presisi[1]+recall[1] != 0 else 0,2*(presisi[2]*recall[2])/(presisi[2]+recall[2])if presisi[2]+recall[2] != 0 else 0]\n",
    "\n",
    "    return akurasi, presisi, recall, f1"
   ]
  },
  {
   "cell_type": "markdown",
   "metadata": {},
   "source": [
    "### Eksekusi "
   ]
  },
  {
   "cell_type": "markdown",
   "metadata": {},
   "source": [
    "#### Pembelajaran dengan FFNN"
   ]
  },
  {
   "cell_type": "code",
   "execution_count": 7,
   "metadata": {},
   "outputs": [
    {
     "name": "stdout",
     "output_type": "stream",
     "text": [
      "predicted = [0, 0, 0, 0, 0, 0, 0, 0, 0, 0, 0, 0, 0, 0, 0, 0, 0, 0, 0, 0, 0, 0, 0, 0, 0, 0, 0, 0, 0, 0, 0, 0, 0, 0, 0, 0, 0, 0, 0, 0, 0, 0, 0, 0, 0, 0, 0, 0, 0, 0, 1, 1, 1, 1, 1, 1, 1, 1, 1, 1, 1, 1, 1, 1, 1, 1, 1, 1, 2, 1, 2, 1, 2, 1, 1, 1, 1, 1, 1, 1, 1, 1, 1, 2, 2, 1, 1, 1, 1, 1, 1, 1, 1, 1, 1, 1, 1, 1, 1, 1, 2, 2, 2, 2, 2, 2, 2, 2, 2, 2, 2, 2, 2, 2, 2, 2, 2, 2, 2, 2, 2, 2, 2, 2, 2, 2, 2, 2, 2, 2, 2, 2, 2, 2, 2, 2, 2, 2, 2, 2, 2, 2, 2, 2, 2, 2, 2, 2, 2, 2]\n",
      "\n",
      "actual = [0, 0, 0, 0, 0, 0, 0, 0, 0, 0, 0, 0, 0, 0, 0, 0, 0, 0, 0, 0, 0, 0, 0, 0, 0, 0, 0, 0, 0, 0, 0, 0, 0, 0, 0, 0, 0, 0, 0, 0, 0, 0, 0, 0, 0, 0, 0, 0, 0, 0, 1, 1, 1, 1, 1, 1, 1, 1, 1, 1, 1, 1, 1, 1, 1, 1, 1, 1, 1, 1, 1, 1, 1, 1, 1, 1, 1, 1, 1, 1, 1, 1, 1, 1, 1, 1, 1, 1, 1, 1, 1, 1, 1, 1, 1, 1, 1, 1, 1, 1, 2, 2, 2, 2, 2, 2, 2, 2, 2, 2, 2, 2, 2, 2, 2, 2, 2, 2, 2, 2, 2, 2, 2, 2, 2, 2, 2, 2, 2, 2, 2, 2, 2, 2, 2, 2, 2, 2, 2, 2, 2, 2, 2, 2, 2, 2, 2, 2, 2, 2]\n",
      "\n",
      "Accuracy score = 0.9666666666666667\n"
     ]
    }
   ],
   "source": [
    "model = read_model()\n",
    "neural_network = FeedForwardNeuralNetwork(model=model, learning_rate=0.2, error_threshold=0.01, max_iteration=1000, json_filename=None)\n",
    "\n",
    "data = read_data()\n",
    "\n",
    "for i in range(1000):\n",
    "    neural_network.learn(data)\n",
    "\n",
    "result, acc = neural_network.predict(test_data=data)\n",
    "predicted = convert_class(result)\n",
    "print(f\"predicted = {predicted}\")\n",
    "\n",
    "target = []\n",
    "for idx, ins in data.iterrows():\n",
    "    target.append([ins[\"Class_1\"], ins[\"Class_2\"], ins[\"Class_3\"]])\n",
    "    \n",
    "actual = convert_class(target)\n",
    "print(f\"\\nactual = {actual}\")\n",
    "\n",
    "print(f\"\\nAccuracy score = {acc}\")\n"
   ]
  },
  {
   "cell_type": "markdown",
   "metadata": {},
   "source": [
    "<b> Confusion Matrix dan Perhitungan Akurasi, Presisi, Recall, dan F1 </b>"
   ]
  },
  {
   "cell_type": "code",
   "execution_count": 8,
   "metadata": {},
   "outputs": [
    {
     "name": "stdout",
     "output_type": "stream",
     "text": [
      "[[50, 0, 0], [0, 45, 5], [0, 0, 50]]\n"
     ]
    },
    {
     "data": {
      "image/png": "[encoded data removed]",
      "text/plain": [
       "<Figure size 288x288 with 2 Axes>"
      ]
     },
     "metadata": {
      "needs_background": "light"
     },
     "output_type": "display_data"
    },
    {
     "name": "stdout",
     "output_type": "stream",
     "text": [
      "Kelas Setosa\n",
      "Akurasi =  1.0\n",
      "Presisi = 1.0\n",
      "Recall = 1.0\n",
      "F1 =  1.0\n",
      "\n",
      "Kelas Versicolor\n",
      "Akurasi =  0.9666666666666667\n",
      "Presisi = 1.0\n",
      "Recall = 0.9\n",
      "F1 =  0.9473684210526316\n",
      "\n",
      "Kelas Virginica\n",
      "Akurasi =  0.9666666666666667\n",
      "Presisi = 0.9090909090909091\n",
      "Recall = 1.0\n",
      "F1 =  0.9523809523809523\n"
     ]
    }
   ],
   "source": [
    "import matplotlib.pyplot as plt\n",
    "\n",
    "conf_mat = conf_matrix(actual, predicted)\n",
    "print(conf_mat)\n",
    "plt.matshow(conf_mat)\n",
    "plt.title('Confusion matrix')\n",
    "plt.colorbar()\n",
    "plt.ylabel('Actual class')\n",
    "plt.xlabel('Predicted class')\n",
    "plt.show()\n",
    "\n",
    "pm = performance_measure(conf_mat)\n",
    "\n",
    "print(\"Kelas Setosa\")\n",
    "print(\"Akurasi = \",pm[0][0] )\n",
    "print(\"Presisi =\",pm[1][0])\n",
    "print(\"Recall =\",pm[2][0])\n",
    "print(\"F1 = \",pm[3][0])\n",
    "print(\"\")\n",
    "print(\"Kelas Versicolor\")\n",
    "print(\"Akurasi = \",pm[0][1] )\n",
    "print(\"Presisi =\",pm[1][1])\n",
    "print(\"Recall =\",pm[2][1])\n",
    "print(\"F1 = \",pm[3][1])\n",
    "print(\"\")\n",
    "print(\"Kelas Virginica\")\n",
    "print(\"Akurasi = \",pm[0][2] )\n",
    "print(\"Presisi =\",pm[1][2])\n",
    "print(\"Recall =\",pm[2][2])\n",
    "print(\"F1 = \",pm[3][2])"
   ]
  },
  {
   "cell_type": "markdown",
   "metadata": {},
   "source": [
    "#### Pembelajaran dengan SKlearn"
   ]
  },
  {
   "cell_type": "code",
   "execution_count": 9,
   "metadata": {
    "scrolled": true
   },
   "outputs": [
    {
     "name": "stdout",
     "output_type": "stream",
     "text": [
      "predicted = [1, 1, 1, 1, 1, 1, 1, 1, 1, 1, 1, 1, 1, 1, 1, 1, 1, 1, 1, 1, 1, 1, 1, 1, 1, 1, 1, 1, 1, 1, 1, 1, 1, 1, 1, 1, 1, 1, 1, 1, 1, 1, 1, 1, 1, 1, 1, 1, 1, 1, 1, 1, 1, 1, 1, 1, 1, 1, 1, 1, 1, 1, 1, 1, 1, 1, 1, 1, 1, 1, 1, 1, 1, 1, 1, 1, 1, 1, 1, 1, 1, 1, 1, 1, 1, 1, 1, 1, 1, 1, 1, 1, 1, 1, 1, 1, 1, 1, 1, 1, 1, 1, 1, 1, 1, 1, 1, 1, 1, 1, 1, 1, 1, 1, 1, 1, 1, 1, 1, 1, 1, 1, 1, 1, 1, 1, 1, 1, 1, 1, 1, 1, 1, 1, 1, 1, 1, 1, 1, 1, 1, 1, 1, 1, 1, 1, 1, 1, 1, 1]\n",
      "\n",
      "actual = [0, 0, 0, 0, 0, 0, 0, 0, 0, 0, 0, 0, 0, 0, 0, 0, 0, 0, 0, 0, 0, 0, 0, 0, 0, 0, 0, 0, 0, 0, 0, 0, 0, 0, 0, 0, 0, 0, 0, 0, 0, 0, 0, 0, 0, 0, 0, 0, 0, 0, 1, 1, 1, 1, 1, 1, 1, 1, 1, 1, 1, 1, 1, 1, 1, 1, 1, 1, 1, 1, 1, 1, 1, 1, 1, 1, 1, 1, 1, 1, 1, 1, 1, 1, 1, 1, 1, 1, 1, 1, 1, 1, 1, 1, 1, 1, 1, 1, 1, 1, 2, 2, 2, 2, 2, 2, 2, 2, 2, 2, 2, 2, 2, 2, 2, 2, 2, 2, 2, 2, 2, 2, 2, 2, 2, 2, 2, 2, 2, 2, 2, 2, 2, 2, 2, 2, 2, 2, 2, 2, 2, 2, 2, 2, 2, 2, 2, 2, 2, 2]\n",
      "\n",
      "Accuracy score = 0.3333333333333333\n"
     ]
    }
   ],
   "source": [
    "from sklearn.neural_network import MLPClassifier\n",
    "from sklearn.datasets import load_iris\n",
    "from sklearn.model_selection import train_test_split\n",
    "from sklearn.metrics import confusion_matrix, ConfusionMatrixDisplay, accuracy_score\n",
    "\n",
    "iris = load_iris()\n",
    "X = iris.data\n",
    "y = iris.target\n",
    "\n",
    "mlpclassifier = MLPClassifier(  hidden_layer_sizes=1,\n",
    "                                learning_rate=\"constant\",\n",
    "                                activation=\"logistic\",\n",
    "                                solver=\"sgd\",\n",
    "                                batch_size=2,\n",
    "                                learning_rate_init=0.1,\n",
    "                                tol=0.1,\n",
    "                                max_iter=200)\n",
    "\n",
    "mlpclassifier.fit(X, y)\n",
    "\n",
    "pred = mlpclassifier.predict(X)\n",
    "print(f\"predicted = {pred.tolist()}\")\n",
    "\n",
    "print(f\"\\nactual = {y.tolist()}\")\n",
    "\n",
    "print(f'\\nAccuracy score = {accuracy_score(pred, y)}')"
   ]
  },
  {
   "cell_type": "markdown",
   "metadata": {},
   "source": [
    "#### Confusion Matrix dan Perhitungan Akurasi, Presisi, Recall, dan F1"
   ]
  },
  {
   "cell_type": "code",
   "execution_count": 10,
   "metadata": {},
   "outputs": [
    {
     "name": "stdout",
     "output_type": "stream",
     "text": [
      "Confusion matrix: [[0, 0, 0], [50, 50, 50], [0, 0, 0]]\n",
      "\n",
      "Kelas Setosa\n",
      "Akurasi =  0.6666666666666666\n",
      "Presisi = 0.0\n",
      "Recall = 0\n",
      "F1 =  0\n",
      "\n",
      "Kelas Versicolor\n",
      "Akurasi =  0.3333333333333333\n",
      "Presisi = 1.0\n",
      "Recall = 0.3333333333333333\n",
      "F1 =  0.5\n",
      "\n",
      "Kelas Virginica\n",
      "Akurasi =  0.6666666666666666\n",
      "Presisi = 0.0\n",
      "Recall = 0\n",
      "F1 =  0\n"
     ]
    },
    {
     "data": {
      "image/png": "[encoded data removed]",
      "text/plain": [
       "<Figure size 432x288 with 2 Axes>"
      ]
     },
     "metadata": {
      "needs_background": "light"
     },
     "output_type": "display_data"
    }
   ],
   "source": [
    "import numpy as np\n",
    "cm = confusion_matrix(pred, y)\n",
    "\n",
    "cm_display = ConfusionMatrixDisplay(cm)\n",
    "cm_display.plot()\n",
    "print(f\"Confusion matrix: {cm.tolist()}\")\n",
    "pm = performance_measure(cm.tolist())\n",
    "\n",
    "print(\"\\nKelas Setosa\")\n",
    "print(\"Akurasi = \",pm[0][0] )\n",
    "print(\"Presisi =\",pm[1][0])\n",
    "print(\"Recall =\",pm[2][0])\n",
    "print(\"F1 = \",pm[3][0])\n",
    "print(\"\")\n",
    "print(\"Kelas Versicolor\")\n",
    "print(\"Akurasi = \",pm[0][1] )\n",
    "print(\"Presisi =\",pm[1][1])\n",
    "print(\"Recall =\",pm[2][1])\n",
    "print(\"F1 = \",pm[3][1])\n",
    "print(\"\")\n",
    "print(\"Kelas Virginica\")\n",
    "print(\"Akurasi = \",pm[0][2] )\n",
    "print(\"Presisi =\",pm[1][2])\n",
    "print(\"Recall =\",pm[2][2])\n",
    "print(\"F1 = \",pm[3][2])\n"
   ]
  },
  {
   "cell_type": "markdown",
   "metadata": {},
   "source": [
    "-------"
   ]
  },
  {
   "cell_type": "markdown",
   "metadata": {},
   "source": [
    "##### Analisis Perbandingan Pembelajaran dengan SKlearn"
   ]
  },
  {
   "cell_type": "markdown",
   "metadata": {},
   "source": [
    "Dari hasil pembelajaran batch, diperoleh total akurasi sebesar 92.6% dengan confusion matriks = [[50, 0, 0], [0, 39, 11], [0, 0, 50]].\n",
    "Perhitungan kinerja secara lebih detail berdasarkan kelas adalah sebagai berikut. \n",
    "\n",
    "- Kelas Setosa\n",
    "Akurasi =  1.0\n",
    "Presisi = 1.0\n",
    "Recall = 1.0\n",
    "F1 =  1.0\n",
    "\n",
    "- Kelas Versicolor\n",
    "Akurasi =  0.9266666666666666\n",
    "Presisi = 1.0\n",
    "Recall = 0.78\n",
    "F1 =  0.8764044943820225\n",
    "\n",
    "- Kelas Virginica\n",
    "Akurasi =  0.9266666666666666\n",
    "Presisi = 0.819672131147541\n",
    "Recall = 1.0\n",
    "F1 =  0.9009009009009009\n",
    "\n",
    "Sedangkan dari pembelajaran SKlearn memanfaatkan MLPClassifier, diperoleh akurasi yang lebih rendah yaitu sebesar 66.67% dengan confusion matrix = [[50, 0, 0], [0, 50, 50], [0, 0, 0]].\n",
    "Perhitungan kinerja secara lebih detail berdasarkan kelas adalah sebagai berikut. \n",
    "- Kelas Setosa\n",
    "Akurasi =  1.0\n",
    "Presisi = 1.0\n",
    "Recall = 1.0\n",
    "F1 =  1.0\n",
    "\n",
    "- Kelas Versicolor\n",
    "Akurasi =  0.6666666666666666\n",
    "Presisi = 1.0\n",
    "Recall = 0.5\n",
    "F1 =  0.6666666666666666\n",
    "\n",
    "- Kelas Virginica\n",
    "Akurasi =  0.6666666666666666\n",
    "Presisi = 0.0\n",
    "Recall = 0\n",
    "F1 =  0\n"
   ]
  },
  {
   "cell_type": "markdown",
   "metadata": {},
   "source": [
    "----"
   ]
  },
  {
   "cell_type": "markdown",
   "metadata": {},
   "source": [
    "#### Pembelajaran dengan skema 90% training dan 10% test"
   ]
  },
  {
   "cell_type": "code",
   "execution_count": 11,
   "metadata": {},
   "outputs": [
    {
     "name": "stdout",
     "output_type": "stream",
     "text": [
      "predicted = [0, 0, 0, 0, 0, 0, 1, 1, 1, 1, 1, 1, 2, 2, 2]\n",
      "actual = [0, 0, 0, 0, 0, 0, 1, 1, 1, 1, 1, 1, 2, 2, 2]\n",
      "Accuracy score = 1.0\n"
     ]
    }
   ],
   "source": [
    "from sklearn.datasets import load_iris\n",
    "from sklearn.model_selection import train_test_split\n",
    "\n",
    "train = data.sample(frac=0.9)\n",
    "test = data.loc[~data.index.isin(train.index)]\n",
    "\n",
    "for i in range(1000):\n",
    "    neural_network.learn(train)\n",
    "    \n",
    "result, acc = neural_network.predict(test_data=test)\n",
    "predicted = convert_class(result)\n",
    "print(f\"predicted = {predicted}\")\n",
    "\n",
    "target = []\n",
    "for idx, ins in test.iterrows():\n",
    "    target.append([ins[\"Class_1\"], ins[\"Class_2\"], ins[\"Class_3\"]])\n",
    "    \n",
    "actual = convert_class(target)\n",
    "print(f\"actual = {actual}\")\n",
    "\n",
    "print(f\"Accuracy score = {acc}\")"
   ]
  },
  {
   "cell_type": "markdown",
   "metadata": {},
   "source": [
    "#### Confusion Matrix dan Perhitungan Akurasi, Presisi, Recall, dan F1"
   ]
  },
  {
   "cell_type": "code",
   "execution_count": 12,
   "metadata": {},
   "outputs": [
    {
     "name": "stdout",
     "output_type": "stream",
     "text": [
      "[[6, 0, 0], [0, 6, 0], [0, 0, 3]]\n"
     ]
    },
    {
     "data": {
      "image/png": "[encoded data removed]",
      "text/plain": [
       "<Figure size 288x288 with 2 Axes>"
      ]
     },
     "metadata": {
      "needs_background": "light"
     },
     "output_type": "display_data"
    },
    {
     "name": "stdout",
     "output_type": "stream",
     "text": [
      "Kelas Setosa\n",
      "Akurasi =  1.0\n",
      "Presisi = 1.0\n",
      "Recall = 1.0\n",
      "F1 =  1.0\n",
      "\n",
      "Kelas Versicolor\n",
      "Akurasi =  1.0\n",
      "Presisi = 1.0\n",
      "Recall = 1.0\n",
      "F1 =  1.0\n",
      "\n",
      "Kelas Virginica\n",
      "Akurasi =  1.0\n",
      "Presisi = 1.0\n",
      "Recall = 1.0\n",
      "F1 =  1.0\n"
     ]
    }
   ],
   "source": [
    "conf_mat = conf_matrix(actual, predicted)\n",
    "print(conf_mat)\n",
    "plt.matshow(conf_mat)\n",
    "plt.title('Confusion matrix')\n",
    "plt.colorbar()\n",
    "plt.ylabel('Actual class')\n",
    "plt.xlabel('Predicted class')\n",
    "plt.show()\n",
    "\n",
    "pm = performance_measure(conf_mat)\n",
    "\n",
    "print(\"Kelas Setosa\")\n",
    "print(\"Akurasi = \",pm[0][0] )\n",
    "print(\"Presisi =\",pm[1][0])\n",
    "print(\"Recall =\",pm[2][0])\n",
    "print(\"F1 = \",pm[3][0])\n",
    "print(\"\")\n",
    "print(\"Kelas Versicolor\")\n",
    "print(\"Akurasi = \",pm[0][1] )\n",
    "print(\"Presisi =\",pm[1][1])\n",
    "print(\"Recall =\",pm[2][1])\n",
    "print(\"F1 = \",pm[3][1])\n",
    "print(\"\")\n",
    "print(\"Kelas Virginica\")\n",
    "print(\"Akurasi = \",pm[0][2] )\n",
    "print(\"Presisi =\",pm[1][2])\n",
    "print(\"Recall =\",pm[2][2])\n",
    "print(\"F1 = \",pm[3][2])"
   ]
  },
  {
   "cell_type": "markdown",
   "metadata": {},
   "source": [
    "----"
   ]
  },
  {
   "cell_type": "markdown",
   "metadata": {},
   "source": [
    "##### Analisis pembelajaran dengan skema 90% training dan 10% test"
   ]
  },
  {
   "cell_type": "markdown",
   "metadata": {},
   "source": [
    "Pada pembelajaran FFNN untuk dataset iris dengan skema split train 90% dan test 10%, didapatkan confusion matrix hanya akan memiliki nilai pada sel yang bernilai true positif untuk setiap kelas dan sisanya akan bernilai 0. Hal ini berakibat pada pengukuran performansi yang didapatkan menghasilkan akurasi pembelajaran 100%, presisi pembelajaran 100%, recall pembelajaran 100%, dan F1 pembelajaran 100%. Artinya, dengan pembelajaran ini, data yang diprediksi memiliki hasil yang sama dengan aktual atau ekspektasi datanya."
   ]
  },
  {
   "cell_type": "markdown",
   "metadata": {},
   "source": [
    "----"
   ]
  },
  {
   "cell_type": "markdown",
   "metadata": {},
   "source": [
    "#### Pembelajaran dengan skema 10-fold cross validation"
   ]
  },
  {
   "cell_type": "code",
   "execution_count": 13,
   "metadata": {},
   "outputs": [
    {
     "name": "stdout",
     "output_type": "stream",
     "text": [
      "predicted = [0, 0, 0, 1, 1, 1, 1, 1, 1, 1, 1, 2, 2, 2, 2]\n",
      "actual = [0, 0, 0, 1, 1, 1, 1, 1, 1, 1, 1, 2, 2, 2, 2]\n",
      "Accuracy score = 1.0\n"
     ]
    }
   ],
   "source": [
    "from sklearn.model_selection import KFold\n",
    "kf = KFold(n_splits = 10, shuffle = True, random_state=0)\n",
    "result = next(kf.split(data), None)\n",
    "train = data.iloc[result[0]]\n",
    "test =  data.iloc[result[1]]\n",
    "\n",
    "for i in range(1000):\n",
    "    neural_network.learn(train)\n",
    "    \n",
    "result, acc = neural_network.predict(test_data=test)\n",
    "predicted = convert_class(result)\n",
    "print(f\"predicted = {predicted}\")\n",
    "\n",
    "target = []\n",
    "for idx, ins in test.iterrows():\n",
    "    target.append([ins[\"Class_1\"], ins[\"Class_2\"], ins[\"Class_3\"]])\n",
    "    \n",
    "actual = convert_class(target)\n",
    "print(f\"actual = {actual}\")\n",
    "\n",
    "print(f\"Accuracy score = {acc}\")"
   ]
  },
  {
   "cell_type": "markdown",
   "metadata": {},
   "source": [
    "#### Confusion Matrix dan Perhitungan Akurasi, Presisi, Recall, dan F1"
   ]
  },
  {
   "cell_type": "code",
   "execution_count": 14,
   "metadata": {},
   "outputs": [
    {
     "name": "stdout",
     "output_type": "stream",
     "text": [
      "[[3, 0, 0], [0, 8, 0], [0, 0, 4]]\n"
     ]
    },
    {
     "data": {
      "image/png": "[encoded data removed]",
      "text/plain": [
       "<Figure size 288x288 with 2 Axes>"
      ]
     },
     "metadata": {
      "needs_background": "light"
     },
     "output_type": "display_data"
    },
    {
     "name": "stdout",
     "output_type": "stream",
     "text": [
      "Kelas Setosa\n",
      "Akurasi =  1.0\n",
      "Presisi = 1.0\n",
      "Recall = 1.0\n",
      "F1 =  1.0\n",
      "\n",
      "Kelas Versicolor\n",
      "Akurasi =  1.0\n",
      "Presisi = 1.0\n",
      "Recall = 1.0\n",
      "F1 =  1.0\n",
      "\n",
      "Kelas Virginica\n",
      "Akurasi =  1.0\n",
      "Presisi = 1.0\n",
      "Recall = 1.0\n",
      "F1 =  1.0\n"
     ]
    }
   ],
   "source": [
    "conf_mat = conf_matrix(actual, predicted)\n",
    "print(conf_mat)\n",
    "plt.matshow(conf_mat)\n",
    "plt.title('Confusion matrix')\n",
    "plt.colorbar()\n",
    "plt.ylabel('Actual class')\n",
    "plt.xlabel('Predicted class')\n",
    "plt.show()\n",
    "\n",
    "pm = performance_measure(conf_mat)\n",
    "\n",
    "print(\"Kelas Setosa\")\n",
    "print(\"Akurasi = \",pm[0][0] )\n",
    "print(\"Presisi =\",pm[1][0])\n",
    "print(\"Recall =\",pm[2][0])\n",
    "print(\"F1 = \",pm[3][0])\n",
    "print(\"\")\n",
    "print(\"Kelas Versicolor\")\n",
    "print(\"Akurasi = \",pm[0][1] )\n",
    "print(\"Presisi =\",pm[1][1])\n",
    "print(\"Recall =\",pm[2][1])\n",
    "print(\"F1 = \",pm[3][1])\n",
    "print(\"\")\n",
    "print(\"Kelas Virginica\")\n",
    "print(\"Akurasi = \",pm[0][2] )\n",
    "print(\"Presisi =\",pm[1][2])\n",
    "print(\"Recall =\",pm[2][2])\n",
    "print(\"F1 = \",pm[3][2])"
   ]
  },
  {
   "cell_type": "markdown",
   "metadata": {},
   "source": [
    "### Save Model to External File"
   ]
  },
  {
   "cell_type": "code",
   "execution_count": 15,
   "metadata": {},
   "outputs": [],
   "source": [
    "neural_network.save_to_json(\"weighted_model.json\")"
   ]
  },
  {
   "cell_type": "markdown",
   "metadata": {},
   "source": [
    "### Load Model and Predict New Instance "
   ]
  },
  {
   "cell_type": "markdown",
   "metadata": {},
   "source": [
    "Misalkan instance baru yang hendak dicek adalah instance yang memiliki sepal_length 6.9, sepal_width 3.3, petal_length 4.2, dan petal_width 1.5."
   ]
  },
  {
   "cell_type": "code",
   "execution_count": 17,
   "metadata": {},
   "outputs": [
    {
     "name": "stdout",
     "output_type": "stream",
     "text": [
      "Result = [0, 1, 0]\n",
      "Class = 1\n"
     ]
    }
   ],
   "source": [
    "test_neural_net = FeedForwardNeuralNetwork(model=None, learning_rate=None, error_threshold=None, max_iteration=None ,json_filename=\"weighted_model.json\")\n",
    "\n",
    "instance = [6.9,3.3,4.2,1.5]\n",
    "ins_result, ins_class = test_neural_net.predict_instance(instance)\n",
    "print(f\"Result = {ins_result}\")\n",
    "print(f\"Class = {ins_class}\")\n"
   ]
  },
  {
   "cell_type": "code",
   "execution_count": null,
   "metadata": {},
   "outputs": [],
   "source": []
  }
 ],
 "metadata": {
  "interpreter": {
   "hash": "87624cbd01e71ab47bd8d90f30cc74e4be12813511688651a34b6aa52844c5e5"
  },
  "kernelspec": {
   "display_name": "Python 3 (ipykernel)",
   "language": "python",
   "name": "python3"
  },
  "language_info": {
   "codemirror_mode": {
    "name": "ipython",
    "version": 3
   },
   "file_extension": ".py",
   "mimetype": "text/x-python",
   "name": "python",
   "nbconvert_exporter": "python",
   "pygments_lexer": "ipython3",
   "version": "3.10.2"
  }
 },
 "nbformat": 4,
 "nbformat_minor": 2
}
