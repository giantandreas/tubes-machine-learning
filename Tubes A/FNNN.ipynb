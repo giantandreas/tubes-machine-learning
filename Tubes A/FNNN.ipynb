{
 "cells": [
  {
   "cell_type": "code",
   "execution_count": null,
   "metadata": {},
   "outputs": [],
   "source": []
  },
  {
   "cell_type": "markdown",
   "metadata": {},
   "source": [
    "#TUGAS BESAR A MACHINE LEARNING\n",
    "\n",
    "- Arjuna Marcelino / 13519021\n",
    "- Sharon Bernadetha Marbun / 13519092\n",
    "- Epata Tuah / 13519120\n",
    "- Giant Andreas Tambunan / 13519127"
   ]
  },
  {
   "cell_type": "code",
   "execution_count": 2,
   "metadata": {},
   "outputs": [
    {
     "name": "stdout",
     "output_type": "stream",
     "text": [
      "here\n",
      "here\n",
      "[[-10, 30], [-30]]\n",
      "[[[20, -20], [20, -20]], [[20], [20]]]\n",
      "['sigmoid', 'sigmoid']\n"
     ]
    }
   ],
   "source": [
    "# Membaca data\n",
    "import csv\n",
    "\n",
    "def readData():\n",
    "    data = []\n",
    "    target_class = []\n",
    "    dataFile = open('data.csv', \"r\")\n",
    "    reader = csv.DictReader(dataFile)\n",
    "    for row in reader:\n",
    "        data.append([int(row[\"x1\"]), int(row[\"x2\"])])\n",
    "        target_class.append(int(row[\"f\"]))\n",
    "    \n",
    "    return data, target_class\n",
    "\n",
    "# Membaca Model\n",
    "# filename ex: modelsigmoid.txt \n",
    "def readModel(filename):\n",
    "    file = open(filename, \"r\")\n",
    "    lines = file.readlines()\n",
    "\n",
    "    # init array\n",
    "    activation = []\n",
    "    weigth = []\n",
    "    bias = []\n",
    "\n",
    "    num_atr = int(lines[0])\n",
    "    i = 1\n",
    "    while i < len(lines):\n",
    "        splitline = lines[i].strip(\"\\n\").split(\" \")\n",
    "        # baris yang mengandung fungsi aktivasi\n",
    "        if((\"sigmoid\" in splitline) or (\"relu\" in splitline) or (\"linear\" in splitline) or \"softmax\" in splitline):\n",
    "            activation.append(splitline[1])\n",
    "\n",
    "            i +=1\n",
    "            splitline = lines[i].strip(\"\\n\").split(\" \")\n",
    "            bias.append(list(map(int, splitline)))\n",
    "\n",
    "            i+=1\n",
    "        else:\n",
    "            w = []\n",
    "            for num in range(num_atr):\n",
    "                splitline = lines[i].strip(\"\\n\").split(\" \")\n",
    "                w.append(list(map(int, splitline)))\n",
    "                i +=1\n",
    "\n",
    "            weigth.append(w)\n",
    "\n",
    "    return bias, weigth, activation\n",
    "\n",
    "bias, weigth , activation = readModel(\"modelsigmoid.txt\")\n",
    "print(bias)\n",
    "print(weigth)\n",
    "print(activation)"
   ]
  },
  {
   "cell_type": "markdown",
   "metadata": {},
   "source": [
    "- data_training, target (v)\n",
    "- baca model (v)\n",
    "- dipetakan ke layer-layer (di depan masukin input layer)\n",
    "\t//activation function(pinjam dulu), array of weight, array of bias\n",
    "\t//method: solve, \n",
    "- lakukan perhitungan di masing-masing layer\n",
    "- visualisasi \n",
    "- ori"
   ]
  },
  {
   "cell_type": "code",
   "execution_count": null,
   "metadata": {},
   "outputs": [],
   "source": []
  },
  {
   "cell_type": "code",
   "execution_count": null,
   "metadata": {},
   "outputs": [],
   "source": [
    "import numpy as np\n",
    "# Kelas Layer\n",
    "class Layer():\n",
    "    def __init__(self, act_function, arr_weight, arr_bias, input_value):\n",
    "        self.act_function = act_function\n",
    "        self.arr_weight = np.array(arr_weight)\n",
    "        self.arr_bias = np.array(arr_bias)\n",
    "        self.arr_comb_linear = []\n",
    "        self.input_value = input_value\n",
    "        \n",
    "    def combinationLinear(self):\n",
    "        # for i in range(len(self.arr_weight)):\n",
    "        #     self.arr_comb_linear.append(arr_bias[i]+)\n",
    "\n",
    "        if(len(self.weight[0]) == 1):\n",
    "            self.arr_comb_linear = np.matmul(\n",
    "                self.input_value, self.weight.flatten()) + self.bias\n",
    "\n",
    "        else:\n",
    "            self.arr.comb_linear = np.matmul(self.input_value, self.weight) + self.bias\n",
    "\n",
    "\n",
    "    def solve(self):\n",
    "        if(act_function == \"linear\"):\n",
    "            print(\"linear\")\n",
    "        elif(act_function == \"sigmoid\"):\n",
    "            print(\"sigmoid\")\n",
    "        elif(act_function == \"relu\"):\n",
    "            print(\"relu\")\n",
    "        else:\n",
    "            print(\"softmax\")"
   ]
  },
  {
   "cell_type": "code",
   "execution_count": null,
   "metadata": {},
   "outputs": [],
   "source": [
    "# Fungsi Aktivasi\n",
    "import math\n",
    "import numpy as np\n",
    "\n",
    "def linear(x, kwargs=None):\n",
    "    return x\n",
    "\n",
    "def sigmoid(x, kwargs=None):\n",
    "    value = float(1 / (1 + math.exp(x * -1)))\n",
    "    threshold = kwargs.get(\"threshold\", None)\n",
    "    if threshold == None:\n",
    "        return value\n",
    "    else:\n",
    "        if value < threshold:\n",
    "            return 0\n",
    "        else:\n",
    "            return 1\n",
    "\n",
    "def relu(x, kwargs):\n",
    "    alpha = kwargs.get(\"alpha\", 0.0)\n",
    "    max_value = kwargs.get(\"max_value\", 1.0)\n",
    "    threshold = kwargs.get(\"threshold\", 0.0)\n",
    "    if x < threshold:\n",
    "        return max(x, x * alpha)\n",
    "    else:\n",
    "        if max_value == None:\n",
    "            return x\n",
    "        else:\n",
    "            return min(x, max_value)\n",
    "\n",
    "def softmax(arr):\n",
    "    arr_exp = np.exp(arr)\n",
    "    return arr_exp / arr_exp.sum()\n"
   ]
  },
  {
   "cell_type": "code",
   "execution_count": null,
   "metadata": {},
   "outputs": [],
   "source": []
  },
  {
   "cell_type": "code",
   "execution_count": null,
   "metadata": {},
   "outputs": [],
   "source": [
    "# Neural Network\n"
   ]
  },
  {
   "cell_type": "code",
   "execution_count": null,
   "metadata": {},
   "outputs": [],
   "source": [
    "# Mainoo\n",
    "\n"
   ]
  }
 ],
 "metadata": {
  "interpreter": {
   "hash": "87624cbd01e71ab47bd8d90f30cc74e4be12813511688651a34b6aa52844c5e5"
  },
  "kernelspec": {
   "display_name": "Python 3.10.2 64-bit",
   "language": "python",
   "name": "python3"
  },
  "language_info": {
   "codemirror_mode": {
    "name": "ipython",
    "version": 3
   },
   "file_extension": ".py",
   "mimetype": "text/x-python",
   "name": "python",
   "nbconvert_exporter": "python",
   "pygments_lexer": "ipython3",
   "version": "3.10.2"
  },
  "orig_nbformat": 4
 },
 "nbformat": 4,
 "nbformat_minor": 2
}
